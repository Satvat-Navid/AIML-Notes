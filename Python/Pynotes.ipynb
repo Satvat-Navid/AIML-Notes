{
 "cells": [
  {
   "cell_type": "markdown",
   "metadata": {},
   "source": [
    "## The lambda funtion.\n",
    "\n",
    "**syntex** - *lambda* argument:expression"
   ]
  },
  {
   "cell_type": "code",
   "execution_count": 1,
   "metadata": {},
   "outputs": [],
   "source": [
    "sq = lambda x:x*x"
   ]
  },
  {
   "cell_type": "code",
   "execution_count": 2,
   "metadata": {},
   "outputs": [
    {
     "data": {
      "text/plain": [
       "144"
      ]
     },
     "execution_count": 2,
     "metadata": {},
     "output_type": "execute_result"
    }
   ],
   "source": [
    "sq(12)"
   ]
  },
  {
   "cell_type": "code",
   "execution_count": 3,
   "metadata": {},
   "outputs": [],
   "source": [
    "def sqr(x):\n",
    "    return x**2"
   ]
  },
  {
   "cell_type": "code",
   "execution_count": 4,
   "metadata": {},
   "outputs": [
    {
     "name": "stdout",
     "output_type": "stream",
     "text": [
      "1\n",
      "4\n",
      "9\n",
      "16\n",
      "36\n",
      "64\n",
      "81\n",
      "144\n"
     ]
    }
   ],
   "source": [
    "nums = [1, 2, 3, 4, 6, 8, 9, 12]\n",
    "for x in nums:\n",
    "    print(sq(x))"
   ]
  },
  {
   "cell_type": "markdown",
   "metadata": {},
   "source": [
    "## The map funtion\n",
    "\n",
    "**syntex** *map*(funtion, iterable)"
   ]
  },
  {
   "cell_type": "code",
   "execution_count": 5,
   "metadata": {},
   "outputs": [
    {
     "name": "stdout",
     "output_type": "stream",
     "text": [
      "<map object at 0x0000021973ED9B70>\n"
     ]
    }
   ],
   "source": [
    "sqr_nums = map(sqr, nums)\n",
    "print(sqr_nums)"
   ]
  },
  {
   "cell_type": "code",
   "execution_count": 6,
   "metadata": {},
   "outputs": [
    {
     "name": "stdout",
     "output_type": "stream",
     "text": [
      "[1, 4, 9, 16, 36, 64, 81, 144]\n"
     ]
    }
   ],
   "source": [
    "#Convert the map objects to a list\n",
    "sqr_nums_lst = list(sqr_nums)\n",
    "print(sqr_nums_lst)"
   ]
  },
  {
   "cell_type": "code",
   "execution_count": 7,
   "metadata": {},
   "outputs": [
    {
     "name": "stdout",
     "output_type": "stream",
     "text": [
      "[1, 4, 9, 16, 144, 25, 36, 49, 64, 81]\n"
     ]
    }
   ],
   "source": [
    "nums2 = [1, 2, 3, 4, 12, 5, 6, 7, 8, 9]\n",
    "sqr_nums_list = list(map(sqr, nums2))  #Inline operation\n",
    "print(sqr_nums_list)"
   ]
  },
  {
   "cell_type": "code",
   "execution_count": 8,
   "metadata": {},
   "outputs": [
    {
     "name": "stdout",
     "output_type": "stream",
     "text": [
      "[1, 4, 9, 16, 36, 64, 81, 144]\n"
     ]
    }
   ],
   "source": [
    "#Using lambda funtion\n",
    "print(list(map(lambda x:x**2, nums)))\n"
   ]
  },
  {
   "cell_type": "code",
   "execution_count": 9,
   "metadata": {},
   "outputs": [
    {
     "name": "stdout",
     "output_type": "stream",
     "text": [
      "[1, 4, 9, 16, 144, 25, 36, 49, 64, 81]\n"
     ]
    }
   ],
   "source": [
    "print(list(map(lambda x:x**2, nums2)))"
   ]
  },
  {
   "cell_type": "markdown",
   "metadata": {},
   "source": [
    "## polimorphism"
   ]
  },
  {
   "cell_type": "code",
   "execution_count": 10,
   "metadata": {},
   "outputs": [],
   "source": [
    "class Shape:\n",
    "    def area():\n",
    "        return \"Area of the shape\"\n",
    "    \n",
    "# drived class 1\n",
    "class Rect(Shape):\n",
    "    \n",
    "    def area():\n",
    "        return \n"
   ]
  },
  {
   "cell_type": "markdown",
   "metadata": {},
   "source": [
    "# PYTHON LOGGING\n",
    "\n",
    "Python logging is a module provided by the Python standard library that allows you to report status, error, and informational messages from your code. It is a powerful tool that helps you track events and troubleshoot issues in your application by recording these events in a systematic and configurable manner.\n"
   ]
  },
  {
   "cell_type": "markdown",
   "metadata": {},
   "source": [
    "#### In Python's logging module, there are several built-in logging levels, each indicating the severity or importance of the message being logged. Here are the different logging levels, in order of increasing severity:\n",
    "\n",
    "DEBUG: Detailed information, typically of interest only when diagnosing problems. It's the lowest level used for small details.\n",
    "\n",
    "INFO: General information about the normal operation of the application. It indicates that things are working as expected.\n",
    "\n",
    "WARNING: An indication that something unexpected happened, or indicative of some problem in the near future (e.g., ‘disk space low’). The software is still working as expected.\n",
    "\n",
    "ERROR: Due to a more serious problem, the software has not been able to perform some function.\n",
    "\n",
    "CRITICAL: A very serious error, indicating that the program itself may be unable to continue running."
   ]
  },
  {
   "cell_type": "code",
   "execution_count": 11,
   "metadata": {},
   "outputs": [],
   "source": [
    "import logging\n",
    "\n",
    "## condfigure the bacis logging settings\n",
    "logging.basicConfig(\n",
    "    filename='app.log',\n",
    "    filemode='w',\n",
    "    level=logging.DEBUG,\n",
    "    format='%(asctime)s-%(name)s-%(levelname)s-%(message)s',\n",
    "    datefmt='%Y-%m-%d %H:%M:%S:'\n",
    ")\n",
    "\n",
    "## log messages with different severity levels\n",
    "logging.debug('This is a debug message')\n",
    "logging.info(\"This is an info messages\")\n",
    "logging.warning(\"This is a worning message\")\n",
    "logging.error(\"This is an error message\")\n",
    "logging.critical(\"This is a critical message\")"
   ]
  }
 ],
 "metadata": {
  "kernelspec": {
   "display_name": "ml310",
   "language": "python",
   "name": "python3"
  },
  "language_info": {
   "codemirror_mode": {
    "name": "ipython",
    "version": 3
   },
   "file_extension": ".py",
   "mimetype": "text/x-python",
   "name": "python",
   "nbconvert_exporter": "python",
   "pygments_lexer": "ipython3",
   "version": "3.10.15"
  }
 },
 "nbformat": 4,
 "nbformat_minor": 2
}
